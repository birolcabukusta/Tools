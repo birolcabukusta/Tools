{
  "nbformat": 4,
  "nbformat_minor": 0,
  "metadata": {
    "colab": {
      "provenance": [],
      "authorship_tag": "ABX9TyOnopnQu9aCLd2ARBrRDWnE",
      "include_colab_link": true
    },
    "kernelspec": {
      "name": "python3",
      "display_name": "Python 3"
    },
    "language_info": {
      "name": "python"
    }
  },
  "cells": [
    {
      "cell_type": "markdown",
      "metadata": {
        "id": "view-in-github",
        "colab_type": "text"
      },
      "source": [
        "<a href=\"https://colab.research.google.com/github/birolcabukusta/Tools/blob/main/Guide%20Primer%20Designer.ipynb\" target=\"_parent\"><img src=\"https://colab.research.google.com/assets/colab-badge.svg\" alt=\"Open In Colab\"/></a>"
      ]
    },
    {
      "cell_type": "code",
      "execution_count": null,
      "metadata": {
        "colab": {
          "base_uri": "https://localhost:8080/"
        },
        "id": "0CXupZFA6fzR",
        "outputId": "dae6afed-0720-4d12-866b-ce64d003e1a0"
      },
      "outputs": [
        {
          "output_type": "execute_result",
          "data": {
            "text/plain": [
              "0"
            ]
          },
          "metadata": {},
          "execution_count": 1
        }
      ],
      "source": [
        "#@title Downolad MMSeqs2\n",
        "import os\n",
        "os.system(\"wget https://mmseqs.com/latest/mmseqs-linux-avx2.tar.gz; tar xvfz mmseqs-linux-avx2.tar.gz; export PATH=$(pwd)/mmseqs/bin/:$PATH\")\n"
      ]
    },
    {
      "cell_type": "code",
      "source": [
        "#@title Create Directories\n",
        "import os\n",
        "import re\n",
        "\n",
        "query_sequence = 'MAENHAQNKAKLISETRRRFEAEYVTDKSDKYDARDVERLQQDDNWVESYLSWRHNIVDE TLKMLDESFQWRKEISVNDLNESSIPRWLLEIGVIYLHGYDKEGNKLFWIRVKYHVKDQK TILDKKKLIAFWLERYAKRENGKPVTVMFDLSETGINSIDMDFVRFIINCFKVYYPKYLS KIVIFDMPWLMNAAFKIVKTWLGPEAVSLLKFTSKNEVQDYVSVEYLPPHMGGTDPFKYS YPPLVDDDFQTPLCENGPITSEDETSSKEDIESDGKETLETISNEEQTPLLKKINPTEST SKAEENEKVDSKVKAFKKPLSVFKGPLLHISPAEELYFGSTESGEKKTLIVLTNVTKNIV AFKVRTTAPEKYRVKPSNSSCDPGASVDIVVSPHGGLTVSAQDRFLIMAAEMEQSSGTGP AELTQFWKEVPRNKVMEHRLRCHTVESSKPNTLTLKDNAFNMSDKTSEDICLQLSRLLES NRKLEDQVQRCIWFQQLLLSLTMLLLAFVTSFFYLLYS' #@param {type:\"string\"}\n",
        "jobname = 'MOSPD2_UniRef100' #@param {type:\"string\"}\n",
        "Database = \"UniRef100\" #@param [\"UniRef100\", \"UniRef90\",\"UniRef50\",\"UniProtKB\",\"UniProtKB/TrEMBL\",\"UniProtKB/Swiss-Prot\",\"PDB\",\"PDB70\"]\n",
        "Database_flat = re.sub('[^A-Za-z0-9]+', '', Database)\n",
        "os.makedirs(jobname, exist_ok=True)\n",
        "\n",
        "queries_path = os.path.join(jobname, f\"{jobname}.fasta\")\n",
        "with open(queries_path, \"w\") as text_file:\n",
        "  text_file.write(f\">{jobname}\\n{query_sequence}\")\n",
        "\n",
        "\n"
      ],
      "metadata": {
        "id": "HnGcHdBS75Wy"
      },
      "execution_count": null,
      "outputs": []
    },
    {
      "cell_type": "code",
      "source": [
        "#@title Install Dependencies\n",
        "import os\n",
        "if not os.path.isfile(f\"{Database_flat}_READY\"):\n",
        "  print(f\"installing {Database}...\")\n",
        "  os.system(f\"mmseqs/bin/mmseqs databases {Database} {Database_flat} tmp\")\n",
        "  #os.system(\"mmseqs/bin/mmseqs databases \" UniProtKB/Swiss-Prot \" swissprot tmp\")\n",
        "  os.system(f\"touch {Database_flat}_READY\")"
      ],
      "metadata": {
        "colab": {
          "base_uri": "https://localhost:8080/"
        },
        "id": "a-BXuBD5NMzo",
        "outputId": "6082f437-4008-45f5-8d30-72034826e271"
      },
      "execution_count": null,
      "outputs": [
        {
          "output_type": "stream",
          "name": "stdout",
          "text": [
            "installing UniRef100...\n"
          ]
        }
      ]
    },
    {
      "cell_type": "code",
      "source": [
        "#!mmseqs/bin/mmseqs databases\n"
      ],
      "metadata": {
        "id": "CtdjDSvzeD9L"
      },
      "execution_count": null,
      "outputs": []
    },
    {
      "cell_type": "code",
      "source": [
        "import os\n",
        "os.system(f\"mmseqs/bin/mmseqs easy-search {jobname}/{jobname}.fasta {Database_flat} {jobname}-easy-search.m8 tmp\")\n",
        "os.system(f\"mmseqs/bin/mmseqs search {jobname}/{jobname}.fasta {Database_flat} {jobname}-search.m8 tmp\")"
      ],
      "metadata": {
        "colab": {
          "base_uri": "https://localhost:8080/"
        },
        "id": "58pJOywY9CJL",
        "outputId": "bf557e3c-f03b-4027-fea5-d8b284981d9a"
      },
      "execution_count": null,
      "outputs": [
        {
          "output_type": "execute_result",
          "data": {
            "text/plain": [
              "256"
            ]
          },
          "metadata": {},
          "execution_count": 5
        }
      ]
    }
  ]
}