{
  "nbformat": 4,
  "nbformat_minor": 0,
  "metadata": {
    "colab": {
      "provenance": [],
      "name": "guide_primer_designer.ipynb",
      "authorship_tag": "ABX9TyNNPZn6+h7OjK8oZjNFso17",
      "include_colab_link": true
    },
    "kernelspec": {
      "name": "python3",
      "display_name": "Python 3"
    },
    "language_info": {
      "name": "python"
    }
  },
  "cells": [
    {
      "cell_type": "markdown",
      "metadata": {
        "id": "view-in-github",
        "colab_type": "text"
      },
      "source": [
        "<a href=\"https://colab.research.google.com/github/birolcabukusta/Tools/blob/main/guide_primer_designer.ipynb\" target=\"_parent\"><img src=\"https://colab.research.google.com/assets/colab-badge.svg\" alt=\"Open In Colab\"/></a>"
      ]
    },
    {
      "cell_type": "code",
      "source": [
        "#@title 👇 Step 1: click on the play button\n",
        "\n",
        "import ipywidgets as widgets\n",
        "from google.colab import files\n",
        "import pandas\n",
        "\n",
        "inp = widgets.Textarea(\n",
        "    value='',\n",
        "    placeholder='Paste primers here, e.g. \\nPrimer1\\tATCGGTAGAC\\nPrimer2\\tTGATGATCCG\\nPrimer3\\tTGGTTAATTGAGAGATT',\n",
        "    description='Paste here:',\n",
        "    disabled=False,\n",
        "    layout=widgets.Layout(height=\"400px\", width=\"500px\")\n",
        ")\n",
        "\n",
        "button = widgets.Button(description=\"Save primers!\")\n",
        "#inp = widgets.Text(description='text:')\n",
        "Box = widgets.HBox([inp, button])\n",
        "\n",
        "table = []\n",
        "\n",
        "def on_button_clicked(b):\n",
        "  table.append(inp.value)\n",
        "  #xx.append(inp.value)\n",
        "  #table = pandas.read_table(inp.value)\n",
        "  print(\"These is the list: \\n\\n\")\n",
        "  print(table[len(table)-1])\n",
        "\n",
        "\n",
        "button.on_click(on_button_clicked)\n",
        "Box\n",
        "\n",
        "#table = pandas.read_table(inp.value)\n"
      ],
      "metadata": {
        "id": "tnRRmnHqF4Gl"
      },
      "execution_count": null,
      "outputs": []
    },
    {
      "cell_type": "code",
      "source": [
        "#@title 👇 Step 2: click on the play after you clicked on \"Save primers!\" ☝️\n",
        "\n",
        "table2 = table[len(table)-1]\n",
        "with open('my_file.csv', 'w') as out:\n",
        "    table2 = \"Primer Name\\tPrimer Seq\\n\" + table2 \n",
        "    table2 = table2.replace('\\t', ',') #.replace(' ', '\\n')\n",
        "    out.write(table2)\n",
        "\n",
        "table2 = (table[len(table)-1])\n",
        "def rev_comp_st(seq): # from https://www.geeksforgeeks.org/reverse-complement-of-dna-strand-using-python/\n",
        "    #seq = seq.upper()\n",
        "    seq = seq.replace(\"A\", \"t\").replace(\"C\", \"g\").replace(\"T\", \"a\").replace(\"G\", \"c\")\n",
        "    seq = seq.upper()\n",
        "    seq = seq[::-1]\n",
        "    return seq\n",
        "\n",
        "\n",
        "\n",
        "\n",
        "df = pandas.read_csv(\"my_file.csv\", header=0)\n",
        "df['Primer Seq'] = [word.upper() for word in df['Primer Seq']]\n",
        "df['name_fwd'] = df['Primer Name'] + '_fwd'\n",
        "df['seq_fwd'] = 'caccg ' + df['Primer Seq']\n",
        "df['name_rev'] = df['Primer Name'] + '_rev'\n",
        "df['seq_rev'] = [rev_comp_st(word) for word in df['Primer Seq']]\n",
        "df['seq_rev'] = 'aaac ' + df['seq_rev'] + ' c'\n",
        "print('These are the primers : \\n\\n ')\n",
        "print(df)\n",
        "df.to_excel('primers.xlsx', index=False)\n",
        "files.download('primers.xlsx')\n",
        "\n",
        "\n"
      ],
      "metadata": {
        "id": "90Z8qcS6Rb5W"
      },
      "execution_count": null,
      "outputs": []
    }
  ]
}