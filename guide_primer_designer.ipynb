{
  "nbformat": 4,
  "nbformat_minor": 0,
  "metadata": {
    "colab": {
      "provenance": [],
      "authorship_tag": "ABX9TyO+TkR49A4I9Tvn5Cr15Tsm",
      "include_colab_link": true
    },
    "kernelspec": {
      "name": "python3",
      "display_name": "Python 3"
    },
    "language_info": {
      "name": "python"
    },
    "widgets": {
      "application/vnd.jupyter.widget-state+json": {
        "bec5fecb912141f2be054032cfa6ed75": {
          "model_module": "@jupyter-widgets/controls",
          "model_name": "VBoxModel",
          "model_module_version": "1.5.0",
          "state": {
            "_dom_classes": [],
            "_model_module": "@jupyter-widgets/controls",
            "_model_module_version": "1.5.0",
            "_model_name": "VBoxModel",
            "_view_count": null,
            "_view_module": "@jupyter-widgets/controls",
            "_view_module_version": "1.5.0",
            "_view_name": "VBoxView",
            "box_style": "",
            "children": [
              "IPY_MODEL_ee2009a656d142c9bbfe29c29e09408e",
              "IPY_MODEL_a2ce2d26b9414fc58bcacb65e032f789"
            ],
            "layout": "IPY_MODEL_272ada626d4f431e84c3f064df57d8ff"
          }
        },
        "ee2009a656d142c9bbfe29c29e09408e": {
          "model_module": "@jupyter-widgets/controls",
          "model_name": "TextareaModel",
          "model_module_version": "1.5.0",
          "state": {
            "_dom_classes": [],
            "_model_module": "@jupyter-widgets/controls",
            "_model_module_version": "1.5.0",
            "_model_name": "TextareaModel",
            "_view_count": null,
            "_view_module": "@jupyter-widgets/controls",
            "_view_module_version": "1.5.0",
            "_view_name": "TextareaView",
            "continuous_update": true,
            "description": "Paste here:",
            "description_tooltip": null,
            "disabled": false,
            "layout": "IPY_MODEL_a977787effff4fa5ac00e06ae9d88b54",
            "placeholder": "Paste primers here, e.g. \nPrimer1\tATCGGTAGACATCGGTAGAC\nPrimer2\tATCGGTAGACATCGGTAGAC",
            "rows": null,
            "style": "IPY_MODEL_3439326375e14675b2d6aa0a9cd085c7",
            "value": ""
          }
        },
        "a2ce2d26b9414fc58bcacb65e032f789": {
          "model_module": "@jupyter-widgets/controls",
          "model_name": "ButtonModel",
          "model_module_version": "1.5.0",
          "state": {
            "_dom_classes": [],
            "_model_module": "@jupyter-widgets/controls",
            "_model_module_version": "1.5.0",
            "_model_name": "ButtonModel",
            "_view_count": null,
            "_view_module": "@jupyter-widgets/controls",
            "_view_module_version": "1.5.0",
            "_view_name": "ButtonView",
            "button_style": "",
            "description": "Save primers!",
            "disabled": false,
            "icon": "",
            "layout": "IPY_MODEL_c6c315d2f6d242e1bcda4bc2e46e74dc",
            "style": "IPY_MODEL_0f7d8c0beeec4100ad526e3bb8499132",
            "tooltip": ""
          }
        },
        "272ada626d4f431e84c3f064df57d8ff": {
          "model_module": "@jupyter-widgets/base",
          "model_name": "LayoutModel",
          "model_module_version": "1.2.0",
          "state": {
            "_model_module": "@jupyter-widgets/base",
            "_model_module_version": "1.2.0",
            "_model_name": "LayoutModel",
            "_view_count": null,
            "_view_module": "@jupyter-widgets/base",
            "_view_module_version": "1.2.0",
            "_view_name": "LayoutView",
            "align_content": null,
            "align_items": null,
            "align_self": null,
            "border": null,
            "bottom": null,
            "display": null,
            "flex": null,
            "flex_flow": null,
            "grid_area": null,
            "grid_auto_columns": null,
            "grid_auto_flow": null,
            "grid_auto_rows": null,
            "grid_column": null,
            "grid_gap": null,
            "grid_row": null,
            "grid_template_areas": null,
            "grid_template_columns": null,
            "grid_template_rows": null,
            "height": null,
            "justify_content": null,
            "justify_items": null,
            "left": null,
            "margin": null,
            "max_height": null,
            "max_width": null,
            "min_height": null,
            "min_width": null,
            "object_fit": null,
            "object_position": null,
            "order": null,
            "overflow": null,
            "overflow_x": null,
            "overflow_y": null,
            "padding": null,
            "right": null,
            "top": null,
            "visibility": null,
            "width": null
          }
        },
        "a977787effff4fa5ac00e06ae9d88b54": {
          "model_module": "@jupyter-widgets/base",
          "model_name": "LayoutModel",
          "model_module_version": "1.2.0",
          "state": {
            "_model_module": "@jupyter-widgets/base",
            "_model_module_version": "1.2.0",
            "_model_name": "LayoutModel",
            "_view_count": null,
            "_view_module": "@jupyter-widgets/base",
            "_view_module_version": "1.2.0",
            "_view_name": "LayoutView",
            "align_content": null,
            "align_items": null,
            "align_self": null,
            "border": null,
            "bottom": null,
            "display": null,
            "flex": null,
            "flex_flow": null,
            "grid_area": null,
            "grid_auto_columns": null,
            "grid_auto_flow": null,
            "grid_auto_rows": null,
            "grid_column": null,
            "grid_gap": null,
            "grid_row": null,
            "grid_template_areas": null,
            "grid_template_columns": null,
            "grid_template_rows": null,
            "height": "400px",
            "justify_content": null,
            "justify_items": null,
            "left": null,
            "margin": null,
            "max_height": null,
            "max_width": null,
            "min_height": null,
            "min_width": null,
            "object_fit": null,
            "object_position": null,
            "order": null,
            "overflow": null,
            "overflow_x": null,
            "overflow_y": null,
            "padding": null,
            "right": null,
            "top": null,
            "visibility": null,
            "width": "500px"
          }
        },
        "3439326375e14675b2d6aa0a9cd085c7": {
          "model_module": "@jupyter-widgets/controls",
          "model_name": "DescriptionStyleModel",
          "model_module_version": "1.5.0",
          "state": {
            "_model_module": "@jupyter-widgets/controls",
            "_model_module_version": "1.5.0",
            "_model_name": "DescriptionStyleModel",
            "_view_count": null,
            "_view_module": "@jupyter-widgets/base",
            "_view_module_version": "1.2.0",
            "_view_name": "StyleView",
            "description_width": ""
          }
        },
        "c6c315d2f6d242e1bcda4bc2e46e74dc": {
          "model_module": "@jupyter-widgets/base",
          "model_name": "LayoutModel",
          "model_module_version": "1.2.0",
          "state": {
            "_model_module": "@jupyter-widgets/base",
            "_model_module_version": "1.2.0",
            "_model_name": "LayoutModel",
            "_view_count": null,
            "_view_module": "@jupyter-widgets/base",
            "_view_module_version": "1.2.0",
            "_view_name": "LayoutView",
            "align_content": null,
            "align_items": null,
            "align_self": null,
            "border": null,
            "bottom": null,
            "display": null,
            "flex": null,
            "flex_flow": null,
            "grid_area": null,
            "grid_auto_columns": null,
            "grid_auto_flow": null,
            "grid_auto_rows": null,
            "grid_column": null,
            "grid_gap": null,
            "grid_row": null,
            "grid_template_areas": null,
            "grid_template_columns": null,
            "grid_template_rows": null,
            "height": null,
            "justify_content": null,
            "justify_items": null,
            "left": null,
            "margin": null,
            "max_height": null,
            "max_width": null,
            "min_height": null,
            "min_width": null,
            "object_fit": null,
            "object_position": null,
            "order": null,
            "overflow": null,
            "overflow_x": null,
            "overflow_y": null,
            "padding": null,
            "right": null,
            "top": null,
            "visibility": null,
            "width": null
          }
        },
        "0f7d8c0beeec4100ad526e3bb8499132": {
          "model_module": "@jupyter-widgets/controls",
          "model_name": "ButtonStyleModel",
          "model_module_version": "1.5.0",
          "state": {
            "_model_module": "@jupyter-widgets/controls",
            "_model_module_version": "1.5.0",
            "_model_name": "ButtonStyleModel",
            "_view_count": null,
            "_view_module": "@jupyter-widgets/base",
            "_view_module_version": "1.2.0",
            "_view_name": "StyleView",
            "button_color": null,
            "font_weight": ""
          }
        }
      }
    }
  },
  "cells": [
    {
      "cell_type": "markdown",
      "metadata": {
        "id": "view-in-github",
        "colab_type": "text"
      },
      "source": [
        "<a href=\"https://colab.research.google.com/github/birolcabukusta/Tools/blob/main/guide_primer_designer.ipynb\" target=\"_parent\"><img src=\"https://colab.research.google.com/assets/colab-badge.svg\" alt=\"Open In Colab\"/></a>"
      ]
    },
    {
      "cell_type": "code",
      "source": [
        "#@title 👇 Step 1: click on the play button\n",
        "\n",
        "import ipywidgets as widgets\n",
        "from google.colab import files\n",
        "import pandas\n",
        "\n",
        "inp = widgets.Textarea(\n",
        "    value='',\n",
        "    placeholder='Paste primers here, e.g. \\nPrimer1\\tATCGGTAGACATCGGTAGAC\\nPrimer2\\tATCGGTAGACATCGGTAGAC',\n",
        "    description='Paste here:',\n",
        "    disabled=False,\n",
        "    layout=widgets.Layout(height=\"400px\", width=\"500px\")\n",
        ")\n",
        "\n",
        "button = widgets.Button(description=\"Save primers!\")\n",
        "#inp = widgets.Text(description='text:')\n",
        "Box = widgets.HBox([inp, button])\n",
        "\n",
        "table = []\n",
        "\n",
        "def on_button_clicked(b):\n",
        "  table.append(inp.value)\n",
        "  #xx.append(inp.value)\n",
        "  #table = pandas.read_table(inp.value)\n",
        "  print(\"These is the list: \\n\\n\")\n",
        "  print(table[len(table)-1])\n",
        "\n",
        "\n",
        "button.on_click(on_button_clicked)\n",
        "Box\n",
        "\n",
        "#table = pandas.read_table(inp.value)\n"
      ],
      "metadata": {
        "id": "tnRRmnHqF4Gl",
        "colab": {
          "base_uri": "https://localhost:8080/",
          "height": 521,
          "referenced_widgets": [
            "bec5fecb912141f2be054032cfa6ed75",
            "ee2009a656d142c9bbfe29c29e09408e",
            "a2ce2d26b9414fc58bcacb65e032f789",
            "272ada626d4f431e84c3f064df57d8ff",
            "a977787effff4fa5ac00e06ae9d88b54",
            "3439326375e14675b2d6aa0a9cd085c7",
            "c6c315d2f6d242e1bcda4bc2e46e74dc",
            "0f7d8c0beeec4100ad526e3bb8499132"
          ]
        },
        "outputId": "a18bb0e5-6fc4-45de-bb2b-df6a96205ed6",
        "cellView": "form"
      },
      "execution_count": null,
      "outputs": [
        {
          "output_type": "display_data",
          "data": {
            "text/plain": [
              "VBox(children=(Textarea(value='', description='Paste here:', layout=Layout(height='400px', width='500px'), pla…"
            ],
            "application/vnd.jupyter.widget-view+json": {
              "version_major": 2,
              "version_minor": 0,
              "model_id": "bec5fecb912141f2be054032cfa6ed75"
            }
          },
          "metadata": {}
        },
        {
          "output_type": "stream",
          "name": "stdout",
          "text": [
            "These is the list: \n",
            "\n",
            "\n",
            "\n"
          ]
        }
      ]
    },
    {
      "cell_type": "markdown",
      "source": [
        "### Step 2: \"Save primers!\" ☝️"
      ],
      "metadata": {
        "id": "eq8rF6ARU333"
      }
    },
    {
      "cell_type": "code",
      "source": [
        "#@title 👇 Step 3: click on the play button\n",
        "\n",
        "table2 = table[len(table)-1]\n",
        "with open('my_file.csv', 'w') as out:\n",
        "    table2 = \"Primer Name\\tPrimer Seq\\n\" + table2 \n",
        "    table2 = table2.replace('\\t', ',') #.replace(' ', '\\n')\n",
        "    out.write(table2)\n",
        "\n",
        "table2 = (table[len(table)-1])\n",
        "def rev_comp_st(seq): # from https://www.geeksforgeeks.org/reverse-complement-of-dna-strand-using-python/\n",
        "    #seq = seq.upper()\n",
        "    seq = seq.replace(\"A\", \"t\").replace(\"C\", \"g\").replace(\"T\", \"a\").replace(\"G\", \"c\")\n",
        "    seq = seq.upper()\n",
        "    seq = seq[::-1]\n",
        "    return seq\n",
        "\n",
        "\n",
        "\n",
        "\n",
        "df = pandas.read_csv(\"my_file.csv\", header=0)\n",
        "df['Primer Seq'] = [word.upper() for word in df['Primer Seq']]\n",
        "df['name_fwd'] = df['Primer Name'] + '_fwd'\n",
        "df['seq_fwd'] = 'caccg ' + df['Primer Seq']\n",
        "df['name_rev'] = df['Primer Name'] + '_rev'\n",
        "df['seq_rev'] = [rev_comp_st(word) for word in df['Primer Seq']]\n",
        "df['seq_rev'] = 'aaac ' + df['seq_rev'] + ' c'\n",
        "print('These are the primers : \\n\\n ')\n",
        "print(df)\n",
        "df.to_excel('primers.xlsx', index=False)\n",
        "files.download('primers.xlsx')\n",
        "\n",
        "\n"
      ],
      "metadata": {
        "id": "90Z8qcS6Rb5W",
        "cellView": "form"
      },
      "execution_count": null,
      "outputs": []
    }
  ]
}