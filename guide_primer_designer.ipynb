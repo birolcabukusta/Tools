{
  "nbformat": 4,
  "nbformat_minor": 0,
  "metadata": {
    "colab": {
      "provenance": [],
      "authorship_tag": "ABX9TyPkyizL8HUX2MZz9dqgwvOS",
      "include_colab_link": true
    },
    "kernelspec": {
      "name": "python3",
      "display_name": "Python 3"
    },
    "language_info": {
      "name": "python"
    },
    "widgets": {
      "application/vnd.jupyter.widget-state+json": {
        "69b9424229bb4d09a46d49ea79a9de52": {
          "model_module": "@jupyter-widgets/controls",
          "model_name": "HBoxModel",
          "model_module_version": "1.5.0",
          "state": {
            "_dom_classes": [],
            "_model_module": "@jupyter-widgets/controls",
            "_model_module_version": "1.5.0",
            "_model_name": "HBoxModel",
            "_view_count": null,
            "_view_module": "@jupyter-widgets/controls",
            "_view_module_version": "1.5.0",
            "_view_name": "HBoxView",
            "box_style": "",
            "children": [
              "IPY_MODEL_c2db2d16385044ffaed4087a67bed4c6",
              "IPY_MODEL_994b8de55bf549f7b39d784ddcd2b49d"
            ],
            "layout": "IPY_MODEL_b31b06bb7e4d4e8fafd181dbd1df374d"
          }
        },
        "c2db2d16385044ffaed4087a67bed4c6": {
          "model_module": "@jupyter-widgets/controls",
          "model_name": "TextareaModel",
          "model_module_version": "1.5.0",
          "state": {
            "_dom_classes": [],
            "_model_module": "@jupyter-widgets/controls",
            "_model_module_version": "1.5.0",
            "_model_name": "TextareaModel",
            "_view_count": null,
            "_view_module": "@jupyter-widgets/controls",
            "_view_module_version": "1.5.0",
            "_view_name": "TextareaView",
            "continuous_update": true,
            "description": "Paste here:",
            "description_tooltip": null,
            "disabled": false,
            "layout": "IPY_MODEL_5996b85a784a448ba5aa7b2db07804c3",
            "placeholder": "Paste primers here, e.g. \nPrimer1\tATCGGTAGAC\nPrimer2\tTGATGATCCG\nPrimer3\tTGGTTAATTGAGAGATT",
            "rows": null,
            "style": "IPY_MODEL_249a956faa784c6997ae46ac6e108b43",
            "value": "Primer1\tATCGGTAGAC\nPrimer2\tTGATGATCCG\nPrimer3\tTGGTTAATTGAGAGATT"
          }
        },
        "994b8de55bf549f7b39d784ddcd2b49d": {
          "model_module": "@jupyter-widgets/controls",
          "model_name": "ButtonModel",
          "model_module_version": "1.5.0",
          "state": {
            "_dom_classes": [],
            "_model_module": "@jupyter-widgets/controls",
            "_model_module_version": "1.5.0",
            "_model_name": "ButtonModel",
            "_view_count": null,
            "_view_module": "@jupyter-widgets/controls",
            "_view_module_version": "1.5.0",
            "_view_name": "ButtonView",
            "button_style": "",
            "description": "Save primers!",
            "disabled": false,
            "icon": "",
            "layout": "IPY_MODEL_d94adf869f7c4ffeb6be0eef3345d29b",
            "style": "IPY_MODEL_d619e7d7e9f5459aa310a0b9cb164b77",
            "tooltip": ""
          }
        },
        "b31b06bb7e4d4e8fafd181dbd1df374d": {
          "model_module": "@jupyter-widgets/base",
          "model_name": "LayoutModel",
          "model_module_version": "1.2.0",
          "state": {
            "_model_module": "@jupyter-widgets/base",
            "_model_module_version": "1.2.0",
            "_model_name": "LayoutModel",
            "_view_count": null,
            "_view_module": "@jupyter-widgets/base",
            "_view_module_version": "1.2.0",
            "_view_name": "LayoutView",
            "align_content": null,
            "align_items": null,
            "align_self": null,
            "border": null,
            "bottom": null,
            "display": null,
            "flex": null,
            "flex_flow": null,
            "grid_area": null,
            "grid_auto_columns": null,
            "grid_auto_flow": null,
            "grid_auto_rows": null,
            "grid_column": null,
            "grid_gap": null,
            "grid_row": null,
            "grid_template_areas": null,
            "grid_template_columns": null,
            "grid_template_rows": null,
            "height": null,
            "justify_content": null,
            "justify_items": null,
            "left": null,
            "margin": null,
            "max_height": null,
            "max_width": null,
            "min_height": null,
            "min_width": null,
            "object_fit": null,
            "object_position": null,
            "order": null,
            "overflow": null,
            "overflow_x": null,
            "overflow_y": null,
            "padding": null,
            "right": null,
            "top": null,
            "visibility": null,
            "width": null
          }
        },
        "5996b85a784a448ba5aa7b2db07804c3": {
          "model_module": "@jupyter-widgets/base",
          "model_name": "LayoutModel",
          "model_module_version": "1.2.0",
          "state": {
            "_model_module": "@jupyter-widgets/base",
            "_model_module_version": "1.2.0",
            "_model_name": "LayoutModel",
            "_view_count": null,
            "_view_module": "@jupyter-widgets/base",
            "_view_module_version": "1.2.0",
            "_view_name": "LayoutView",
            "align_content": null,
            "align_items": null,
            "align_self": null,
            "border": null,
            "bottom": null,
            "display": null,
            "flex": null,
            "flex_flow": null,
            "grid_area": null,
            "grid_auto_columns": null,
            "grid_auto_flow": null,
            "grid_auto_rows": null,
            "grid_column": null,
            "grid_gap": null,
            "grid_row": null,
            "grid_template_areas": null,
            "grid_template_columns": null,
            "grid_template_rows": null,
            "height": "400px",
            "justify_content": null,
            "justify_items": null,
            "left": null,
            "margin": null,
            "max_height": null,
            "max_width": null,
            "min_height": null,
            "min_width": null,
            "object_fit": null,
            "object_position": null,
            "order": null,
            "overflow": null,
            "overflow_x": null,
            "overflow_y": null,
            "padding": null,
            "right": null,
            "top": null,
            "visibility": null,
            "width": "500px"
          }
        },
        "249a956faa784c6997ae46ac6e108b43": {
          "model_module": "@jupyter-widgets/controls",
          "model_name": "DescriptionStyleModel",
          "model_module_version": "1.5.0",
          "state": {
            "_model_module": "@jupyter-widgets/controls",
            "_model_module_version": "1.5.0",
            "_model_name": "DescriptionStyleModel",
            "_view_count": null,
            "_view_module": "@jupyter-widgets/base",
            "_view_module_version": "1.2.0",
            "_view_name": "StyleView",
            "description_width": ""
          }
        },
        "d94adf869f7c4ffeb6be0eef3345d29b": {
          "model_module": "@jupyter-widgets/base",
          "model_name": "LayoutModel",
          "model_module_version": "1.2.0",
          "state": {
            "_model_module": "@jupyter-widgets/base",
            "_model_module_version": "1.2.0",
            "_model_name": "LayoutModel",
            "_view_count": null,
            "_view_module": "@jupyter-widgets/base",
            "_view_module_version": "1.2.0",
            "_view_name": "LayoutView",
            "align_content": null,
            "align_items": null,
            "align_self": null,
            "border": null,
            "bottom": null,
            "display": null,
            "flex": null,
            "flex_flow": null,
            "grid_area": null,
            "grid_auto_columns": null,
            "grid_auto_flow": null,
            "grid_auto_rows": null,
            "grid_column": null,
            "grid_gap": null,
            "grid_row": null,
            "grid_template_areas": null,
            "grid_template_columns": null,
            "grid_template_rows": null,
            "height": null,
            "justify_content": null,
            "justify_items": null,
            "left": null,
            "margin": null,
            "max_height": null,
            "max_width": null,
            "min_height": null,
            "min_width": null,
            "object_fit": null,
            "object_position": null,
            "order": null,
            "overflow": null,
            "overflow_x": null,
            "overflow_y": null,
            "padding": null,
            "right": null,
            "top": null,
            "visibility": null,
            "width": null
          }
        },
        "d619e7d7e9f5459aa310a0b9cb164b77": {
          "model_module": "@jupyter-widgets/controls",
          "model_name": "ButtonStyleModel",
          "model_module_version": "1.5.0",
          "state": {
            "_model_module": "@jupyter-widgets/controls",
            "_model_module_version": "1.5.0",
            "_model_name": "ButtonStyleModel",
            "_view_count": null,
            "_view_module": "@jupyter-widgets/base",
            "_view_module_version": "1.2.0",
            "_view_name": "StyleView",
            "button_color": null,
            "font_weight": ""
          }
        }
      }
    }
  },
  "cells": [
    {
      "cell_type": "markdown",
      "metadata": {
        "id": "view-in-github",
        "colab_type": "text"
      },
      "source": [
        "<a href=\"https://colab.research.google.com/github/birolcabukusta/Tools/blob/main/guide_primer_designer.ipynb\" target=\"_parent\"><img src=\"https://colab.research.google.com/assets/colab-badge.svg\" alt=\"Open In Colab\"/></a>"
      ]
    },
    {
      "cell_type": "code",
      "source": [
        "#@title 👇 Step 1: click on the play button\n",
        "\n",
        "import ipywidgets as widgets\n",
        "from google.colab import files\n",
        "import pandas\n",
        "\n",
        "inp = widgets.Textarea(\n",
        "    value='',\n",
        "    placeholder='Paste primers here, e.g. \\nPrimer1\\tATCGGTAGAC\\nPrimer2\\tTGATGATCCG\\nPrimer3\\tTGGTTAATTGAGAGATT',\n",
        "    description='Paste here:',\n",
        "    disabled=False,\n",
        "    layout=widgets.Layout(height=\"400px\", width=\"500px\")\n",
        ")\n",
        "\n",
        "button = widgets.Button(description=\"Save primers!\")\n",
        "#inp = widgets.Text(description='text:')\n",
        "Box = widgets.HBox([inp, button])\n",
        "\n",
        "table = []\n",
        "\n",
        "def on_button_clicked(b):\n",
        "  table.append(inp.value)\n",
        "  #xx.append(inp.value)\n",
        "  #table = pandas.read_table(inp.value)\n",
        "  print(\"These is the list: \\n\\n\")\n",
        "  print(table[len(table)-1])\n",
        "\n",
        "\n",
        "button.on_click(on_button_clicked)\n",
        "Box\n",
        "\n",
        "#table = pandas.read_table(inp.value)\n"
      ],
      "metadata": {
        "colab": {
          "base_uri": "https://localhost:8080/",
          "height": 523,
          "referenced_widgets": [
            "69b9424229bb4d09a46d49ea79a9de52",
            "c2db2d16385044ffaed4087a67bed4c6",
            "994b8de55bf549f7b39d784ddcd2b49d",
            "b31b06bb7e4d4e8fafd181dbd1df374d",
            "5996b85a784a448ba5aa7b2db07804c3",
            "249a956faa784c6997ae46ac6e108b43",
            "d94adf869f7c4ffeb6be0eef3345d29b",
            "d619e7d7e9f5459aa310a0b9cb164b77"
          ]
        },
        "id": "tnRRmnHqF4Gl",
        "outputId": "3f3f2cec-5f50-445e-97b2-ccfc520002ea"
      },
      "execution_count": null,
      "outputs": [
        {
          "output_type": "display_data",
          "data": {
            "text/plain": [
              "HBox(children=(Textarea(value='', description='Paste here:', layout=Layout(height='400px', width='500px'), pla…"
            ],
            "application/vnd.jupyter.widget-view+json": {
              "version_major": 2,
              "version_minor": 0,
              "model_id": "69b9424229bb4d09a46d49ea79a9de52"
            }
          },
          "metadata": {}
        },
        {
          "output_type": "stream",
          "name": "stdout",
          "text": [
            "These is the list: \n",
            "\n",
            "\n",
            "Primer1\tATCGGTAGAC\n",
            "Primer2\tTGATGATCCG\n",
            "Primer3\tTGGTTAATTGAGAGATT\n"
          ]
        }
      ]
    },
    {
      "cell_type": "code",
      "source": [
        "#@title 👇 Step 2: click on the play after you clicked on \"Save primers!\" ☝️\n",
        "\n",
        "table2 = table[len(table)-1]\n",
        "with open('my_file.csv', 'w') as out:\n",
        "    table2 = \"Primer Name\\tPrimer Seq\\n\" + table2 \n",
        "    table2 = table2.replace('\\t', ',') #.replace(' ', '\\n')\n",
        "    out.write(table2)\n",
        "\n",
        "table2 = (table[len(table)-1])\n",
        "def rev_comp_st(seq): # from https://www.geeksforgeeks.org/reverse-complement-of-dna-strand-using-python/\n",
        "    #seq = seq.upper()\n",
        "    seq = seq.replace(\"A\", \"t\").replace(\"C\", \"g\").replace(\"T\", \"a\").replace(\"G\", \"c\")\n",
        "    seq = seq.upper()\n",
        "    seq = seq[::-1]\n",
        "    return seq\n",
        "\n",
        "\n",
        "\n",
        "\n",
        "df = pandas.read_csv(\"my_file.csv\", header=0)\n",
        "df['Primer Seq'] = [word.upper() for word in df['Primer Seq']]\n",
        "df['name_fwd'] = df['Primer Name'] + '_fwd'\n",
        "df['seq_fwd'] = 'caccg ' + df['Primer Seq']\n",
        "df['name_rev'] = df['Primer Name'] + '_rev'\n",
        "df['seq_rev'] = [rev_comp_st(word) for word in df['Primer Seq']]\n",
        "df['seq_rev'] = 'aaac ' + df['seq_rev'] + ' c'\n",
        "print('These are the primers : \\n\\n ')\n",
        "print(df)\n",
        "df.to_excel('primers.xlsx', index=False)\n",
        "files.download('primers.xlsx')\n",
        "\n",
        "\n"
      ],
      "metadata": {
        "colab": {
          "base_uri": "https://localhost:8080/",
          "height": 221
        },
        "id": "90Z8qcS6Rb5W",
        "outputId": "1316fee1-4e5c-431d-bb5b-fbbdec7e4c71"
      },
      "execution_count": null,
      "outputs": [
        {
          "output_type": "stream",
          "name": "stdout",
          "text": [
            "These are the primers : \n",
            "\n",
            " \n",
            "  Primer Name         Primer Seq     name_fwd                  seq_fwd  \\\n",
            "0     Primer1         ATCGGTAGAC  Primer1_fwd         caccg ATCGGTAGAC   \n",
            "1     Primer2         TGATGATCCG  Primer2_fwd         caccg TGATGATCCG   \n",
            "2     Primer3  TGGTTAATTGAGAGATT  Primer3_fwd  caccg TGGTTAATTGAGAGATT   \n",
            "\n",
            "      name_rev                   seq_rev  \n",
            "0  Primer1_rev         aaac GTCTACCGAT c  \n",
            "1  Primer2_rev         aaac CGGATCATCA c  \n",
            "2  Primer3_rev  aaac AATCTCTCAATTAACCA c  \n"
          ]
        },
        {
          "output_type": "display_data",
          "data": {
            "text/plain": [
              "<IPython.core.display.Javascript object>"
            ],
            "application/javascript": [
              "\n",
              "    async function download(id, filename, size) {\n",
              "      if (!google.colab.kernel.accessAllowed) {\n",
              "        return;\n",
              "      }\n",
              "      const div = document.createElement('div');\n",
              "      const label = document.createElement('label');\n",
              "      label.textContent = `Downloading \"${filename}\": `;\n",
              "      div.appendChild(label);\n",
              "      const progress = document.createElement('progress');\n",
              "      progress.max = size;\n",
              "      div.appendChild(progress);\n",
              "      document.body.appendChild(div);\n",
              "\n",
              "      const buffers = [];\n",
              "      let downloaded = 0;\n",
              "\n",
              "      const channel = await google.colab.kernel.comms.open(id);\n",
              "      // Send a message to notify the kernel that we're ready.\n",
              "      channel.send({})\n",
              "\n",
              "      for await (const message of channel.messages) {\n",
              "        // Send a message to notify the kernel that we're ready.\n",
              "        channel.send({})\n",
              "        if (message.buffers) {\n",
              "          for (const buffer of message.buffers) {\n",
              "            buffers.push(buffer);\n",
              "            downloaded += buffer.byteLength;\n",
              "            progress.value = downloaded;\n",
              "          }\n",
              "        }\n",
              "      }\n",
              "      const blob = new Blob(buffers, {type: 'application/binary'});\n",
              "      const a = document.createElement('a');\n",
              "      a.href = window.URL.createObjectURL(blob);\n",
              "      a.download = filename;\n",
              "      div.appendChild(a);\n",
              "      a.click();\n",
              "      div.remove();\n",
              "    }\n",
              "  "
            ]
          },
          "metadata": {}
        },
        {
          "output_type": "display_data",
          "data": {
            "text/plain": [
              "<IPython.core.display.Javascript object>"
            ],
            "application/javascript": [
              "download(\"download_a4691978-b9a8-4434-bd98-66554232fc35\", \"primers.xlsx\", 5108)"
            ]
          },
          "metadata": {}
        }
      ]
    },
    {
      "cell_type": "code",
      "execution_count": null,
      "metadata": {
        "id": "0CXupZFA6fzR"
      },
      "outputs": [],
      "source": [
        "\n",
        "\n"
      ]
    },
    {
      "cell_type": "code",
      "source": [
        "\n"
      ],
      "metadata": {
        "id": "HnGcHdBS75Wy"
      },
      "execution_count": null,
      "outputs": []
    }
  ]
}